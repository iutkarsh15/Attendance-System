{
 "cells": [
  {
   "cell_type": "code",
   "execution_count": 3,
   "id": "20776891-c7d0-404f-83df-4d6985069fd5",
   "metadata": {},
   "outputs": [],
   "source": [
    "import os\n",
    "import cv2\n",
    "import numpy as np\n",
    "import pickle\n",
    "from sklearn.preprocessing import LabelEncoder\n",
    "from sklearn.svm import SVC\n",
    "\n",
    "face_model = cv2.dnn.readNetFromTorch(\"models/openface.nn4.small2.v1.t7\")\n",
    "face_detector = cv2.dnn.readNetFromCaffe(\"models/deploy.prototxt\", \"models/res10_300x300_ssd_iter_140000_fp16.caffemodel\")\n",
    "\n",
    "dataset_path = \"known_faces\"\n",
    "X, Y = [], []\n",
    "\n",
    "for person_name in os.listdir(dataset_path):\n",
    "    person_folder = os.path.join(dataset_path, person_name)\n",
    "    if not os.path.isdir(person_folder):\n",
    "        continue\n",
    "    for img_name in os.listdir(person_folder):\n",
    "        img_path = os.path.join(person_folder, img_name)\n",
    "        image = cv2.imread(img_path)\n",
    "        if image is None:\n",
    "            continue\n",
    "        h, w = image.shape[:2]\n",
    "        blob = cv2.dnn.blobFromImage(cv2.resize(image, (300, 300)), 1.0, (300, 300), (104.0, 177.0, 123.0))\n",
    "        face_detector.setInput(blob)\n",
    "        detections = face_detector.forward()\n",
    "        if detections.shape[2] == 0:\n",
    "            continue\n",
    "        confidence = detections[0, 0, 0, 2]\n",
    "        if confidence < 0.5:\n",
    "            continue\n",
    "        box = detections[0, 0, 0, 3:7] * np.array([w, h, w, h])\n",
    "        (x1, y1, x2, y2) = box.astype(\"int\")\n",
    "        face = image[y1:y2, x1:x2]\n",
    "        if face.size == 0:\n",
    "            continue\n",
    "        face_blob = cv2.dnn.blobFromImage(cv2.resize(face, (96, 96)), 1.0 / 255, (96, 96), (0, 0, 0), swapRB=True, crop=False)\n",
    "        face_model.setInput(face_blob)\n",
    "        vec = face_model.forward()\n",
    "        X.append(vec.flatten())\n",
    "        Y.append(person_name)\n",
    "\n",
    "le = LabelEncoder()\n",
    "labels = le.fit_transform(Y)\n",
    "clf = SVC(C=1.0, kernel=\"linear\", probability=True)\n",
    "clf.fit(X, labels)\n",
    "\n",
    "with open(\"classifier.pkl\", \"wb\") as f:\n",
    "    pickle.dump((le, clf), f)"
   ]
  },
  {
   "cell_type": "code",
   "execution_count": null,
   "id": "ee504b12-81b3-48a4-8fe8-56ddade5e043",
   "metadata": {},
   "outputs": [],
   "source": []
  }
 ],
 "metadata": {
  "kernelspec": {
   "display_name": "Python [conda env:base] *",
   "language": "python",
   "name": "conda-base-py"
  },
  "language_info": {
   "codemirror_mode": {
    "name": "ipython",
    "version": 3
   },
   "file_extension": ".py",
   "mimetype": "text/x-python",
   "name": "python",
   "nbconvert_exporter": "python",
   "pygments_lexer": "ipython3",
   "version": "3.12.7"
  }
 },
 "nbformat": 4,
 "nbformat_minor": 5
}
